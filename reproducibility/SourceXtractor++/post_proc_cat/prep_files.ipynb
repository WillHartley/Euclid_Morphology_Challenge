{
 "cells": [
  {
   "cell_type": "code",
   "execution_count": 1,
   "metadata": {},
   "outputs": [],
   "source": [
    "import numpy as np\n",
    "import astropy.io.fits as pyfits\n",
    "from astropy.table import Table\n",
    "import copy\n",
    "from scipy import stats\n",
    "import matplotlib.pyplot as plt\n",
    "from matplotlib.gridspec import GridSpec\n",
    "import sys, os\n",
    "import subprocess"
   ]
  },
  {
   "cell_type": "markdown",
   "metadata": {},
   "source": [
    "# Single Sersic"
   ]
  },
  {
   "cell_type": "code",
   "execution_count": 2,
   "metadata": {},
   "outputs": [],
   "source": [
    "# change column names\n",
    "translate = {'x': 'x_fit',\n",
    "             'x_err': 'x_fit_err',\n",
    "             'y': 'y_fit',\n",
    "             'y_err': 'y_fit_err',\n",
    "             'flux': 'flux_tot',\n",
    "             'flux_err': 'flux_tot_err',\n",
    "             #'st': 'bt',\n",
    "             #'st_err': 'bt_err',\n",
    "             'col1': 'ID',\n",
    "             'col2': 'X',\n",
    "             'col3': 'Y'\n",
    "            }"
   ]
  },
  {
   "cell_type": "code",
   "execution_count": 3,
   "metadata": {},
   "outputs": [],
   "source": [
    "# columns to drop\n",
    "#drop_cols = ['x','y','x_err','y_err']\n",
    "drop_cols = ['detection_id', 'group_id', 'ra', 'ra_err', 'dec', 'dec_err', 'X_rad', 'X_rad_err', \n",
    "             'X_sersic', 'X_sersic_err', 'angle', 'angle_err', 'X_bt', 'X_bt_err', 'X_disk_radius', \n",
    "             'X_disk_radius_err', 'rel_s', 'rel_s_err', 'RA', 'RA_err', 'Dec', 'Dec_err', 'X_disk_effR', \n",
    "            'X_disk_effR_err', 'X_st', 'X_st_err', 'Separation', 'ellipse_a', 'ellipse_b', 'ellipse_theta',\n",
    "            'ellipse_cxx', 'ellipse_cyy', 'ellipse_cxy', 'area', 'elongation', 'ellipticity', 'X_rel_size',\n",
    "            'X_rel_size_err', 'X_disk_axr', 'X_disk_axr_err', 'X_sersic_axr', 'X_sersic_axr_err', \n",
    "             'X_bulge_axr', 'X_bulge_axr_err']"
   ]
  },
  {
   "cell_type": "code",
   "execution_count": 4,
   "metadata": {},
   "outputs": [
    {
     "name": "stdout",
     "output_type": "stream",
     "text": [
      "0\n",
      "1\n",
      "2\n",
      "3\n",
      "4\n"
     ]
    }
   ],
   "source": [
    "rdir = \"results/SingleSersic\"\n",
    "list_dir = \"truth/input_positions_allfields\"\n",
    "out_dir = \"entry/SingleSersic\"\n",
    "\n",
    "for i in range(5):\n",
    "    print(i)\n",
    "    rfile = os.path.join(rdir,\"ssersic_cat_{}.fits\".format(i))\n",
    "    list_file = os.path.join(list_dir,\"input_positions_vis_{}_all.list\".format(i))\n",
    "    out_file = os.path.join(out_dir,\"ssersic_cat_{}.fits\".format(i))\n",
    "\n",
    "    # match\n",
    "    cmd = 'stilts tmatch2 in1={} ifmt1=ascii in2={} out={} matcher=2d values1=\"col2 col3\" values2=\"x y\" \\\n",
    "    params=3 join=all1'.format(list_file, rfile, out_file)\n",
    "    subprocess.call(cmd, shell=True)\n",
    "\n",
    "    t = Table.read(out_file)\n",
    "    \n",
    "    # check that we don't have double matches\n",
    "    if len(t[t['source_id']>-1]) > len(np.unique(t['source_id'])-2):\n",
    "           print(\"Warning: Looks like you have some double matches\")\n",
    "\n",
    "    # delete the columns we don't need\n",
    "    for col in drop_cols:\n",
    "        try:\n",
    "            del t[col]\n",
    "        except:\n",
    "            pass\n",
    "\n",
    "    # rename columns\n",
    "    for item in translate.items():\n",
    "        try:\n",
    "            t[item[0]].name = translate[item[0]]\n",
    "        except:\n",
    "            pass\n",
    "\n",
    "    # add in flag values for unmatched objects\n",
    "    for col in t.colnames:\n",
    "        t[col][np.isnan(t[col])] = -9999\n",
    "        t[col][t[col].mask==True] = -9999            \n",
    "\n",
    "    # save file\n",
    "    t.write(out_file, overwrite=True)\n",
    "    \n"
   ]
  },
  {
   "cell_type": "markdown",
   "metadata": {},
   "source": [
    "# Realistic morph"
   ]
  },
  {
   "cell_type": "code",
   "execution_count": 5,
   "metadata": {},
   "outputs": [
    {
     "name": "stdout",
     "output_type": "stream",
     "text": [
      "0\n",
      "1\n",
      "2\n",
      "3\n",
      "4\n"
     ]
    }
   ],
   "source": [
    "rdir = \"results/RealMorph\"\n",
    "list_dir = \"truth/input_positions_allfields\"\n",
    "out_dir = \"entry/Realistic\"\n",
    "\n",
    "for i in range(5):\n",
    "    print(i)\n",
    "    rfile = os.path.join(rdir,\"real_cat_{}.fits\".format(i))\n",
    "    list_file = os.path.join(list_dir,\"input_positions_vis_{}_all.list\".format(i))\n",
    "    out_file = os.path.join(out_dir,\"ssersic_realistic_{}.fits\".format(i))\n",
    "\n",
    "    # match\n",
    "    cmd = 'stilts tmatch2 in1={} ifmt1=ascii in2={} out={} matcher=2d values1=\"col2 col3\" values2=\"x y\" \\\n",
    "    params=3 join=all1'.format(list_file, rfile, out_file)\n",
    "    subprocess.call(cmd, shell=True)\n",
    "\n",
    "    t = Table.read(out_file)\n",
    "    \n",
    "    # check that we don't have double matches\n",
    "    if len(t[t['source_id']>-1]) > len(np.unique(t['source_id'])-2):\n",
    "           print(\"Warning: Looks like you have some double matches\")\n",
    "\n",
    "    # delete the columns we don't need\n",
    "    for col in drop_cols:\n",
    "        try:\n",
    "            del t[col]\n",
    "        except:\n",
    "            pass\n",
    "\n",
    "    # rename columns\n",
    "    for item in translate.items():\n",
    "        try:\n",
    "            t[item[0]].name = translate[item[0]]\n",
    "        except:\n",
    "            pass\n",
    "\n",
    "    # add in flag values for unmatched objects\n",
    "    for col in t.colnames:\n",
    "        t[col][np.isnan(t[col])] = -9999\n",
    "        t[col][t[col].mask==True] = -9999            \n",
    "\n",
    "    # save file\n",
    "    t.write(out_file, overwrite=True)"
   ]
  },
  {
   "cell_type": "markdown",
   "metadata": {},
   "source": [
    "# Bulge + Disk"
   ]
  },
  {
   "cell_type": "code",
   "execution_count": 6,
   "metadata": {},
   "outputs": [
    {
     "name": "stdout",
     "output_type": "stream",
     "text": [
      "0\n",
      "1\n",
      "2\n",
      "3\n",
      "4\n"
     ]
    }
   ],
   "source": [
    "rdir = \"results/DoubleSersic\"\n",
    "list_dir = \"truth/input_positions_allfields\"\n",
    "out_dir = \"entry/BulgeDisk\"\n",
    "\n",
    "for i in range(5):\n",
    "    print(i)\n",
    "    rfile = os.path.join(rdir,\"dsersic_{}.fits\".format(i))\n",
    "    list_file = os.path.join(list_dir,\"input_positions_vis_{}_all.list\".format(i))\n",
    "    out_file = os.path.join(out_dir,\"dsersic_{}.fits\".format(i))\n",
    "\n",
    "    # match\n",
    "    cmd = 'stilts tmatch2 in1={} ifmt1=ascii in2={} out={} matcher=2d values1=\"col2 col3\" values2=\"x y\" \\\n",
    "    params=3 join=all1'.format(list_file, rfile, out_file)\n",
    "    subprocess.call(cmd, shell=True)\n",
    "\n",
    "    t = Table.read(out_file)\n",
    "\n",
    "    # check that we don't have double matches\n",
    "    if len(t[t['source_id']>-1]) > len(np.unique(t['source_id'])-2):\n",
    "           print(\"Warning: Looks like you have some double matches\")\n",
    "\n",
    "    # delete the columns we don't need\n",
    "    for col in drop_cols:\n",
    "        try:\n",
    "            del t[col]\n",
    "        except:\n",
    "            pass\n",
    "\n",
    "    # rename columns\n",
    "    for item in translate.items():\n",
    "        try:\n",
    "            t[item[0]].name = translate[item[0]]\n",
    "        except:\n",
    "            pass\n",
    "\n",
    "    # add in flag values for unmatched objects\n",
    "    for col in t.colnames:\n",
    "        t[col][np.isnan(t[col])] = -9999\n",
    "        t[col][t[col].mask==True] = -9999            \n",
    "\n",
    "    # save file\n",
    "    t.write(out_file, overwrite=True)\n",
    "    "
   ]
  },
  {
   "cell_type": "code",
   "execution_count": 7,
   "metadata": {},
   "outputs": [
    {
     "name": "stdout",
     "output_type": "stream",
     "text": [
      "0\n",
      "1\n",
      "2\n",
      "3\n",
      "4\n"
     ]
    }
   ],
   "source": [
    "rdir = \"results/Sersic+Disk\"\n",
    "list_dir = \"truth/input_positions_allfields\"\n",
    "out_dir = \"entry/SersicDisk\"\n",
    "\n",
    "for i in range(5):\n",
    "    print(i)\n",
    "    rfile = os.path.join(rdir,\"dsersic_var_{}.fits\".format(i))\n",
    "    list_file = os.path.join(list_dir,\"input_positions_vis_{}_all.list\".format(i))\n",
    "    out_file = os.path.join(out_dir,\"dsersic_var_{}.fits\".format(i))\n",
    "\n",
    "    # match\n",
    "    cmd = 'stilts tmatch2 in1={} ifmt1=ascii in2={} out={} matcher=2d values1=\"col2 col3\" values2=\"x y\" \\\n",
    "    params=3 join=all1'.format(list_file, rfile, out_file)\n",
    "    subprocess.call(cmd, shell=True)\n",
    "\n",
    "    t = Table.read(out_file)\n",
    "\n",
    "    # check that we don't have double matches\n",
    "    if len(t[t['source_id']>-1]) > len(np.unique(t['source_id'])-2):\n",
    "           print(\"Warning: Looks like you have some double matches\")\n",
    "\n",
    "    # delete the columns we don't need\n",
    "    for col in drop_cols:\n",
    "        try:\n",
    "            del t[col]\n",
    "        except:\n",
    "            pass\n",
    "\n",
    "    # rename columns\n",
    "    for item in translate.items():\n",
    "        try:\n",
    "            t[item[0]].name = translate[item[0]]\n",
    "        except:\n",
    "            pass\n",
    "\n",
    "    # add in flag values for unmatched objects\n",
    "    for col in t.colnames:\n",
    "        t[col][np.isnan(t[col])] = -9999\n",
    "        t[col][t[col].mask==True] = -9999            \n",
    "\n",
    "    # save file\n",
    "    t.write(out_file, overwrite=True)"
   ]
  },
  {
   "cell_type": "code",
   "execution_count": null,
   "metadata": {},
   "outputs": [],
   "source": []
  },
  {
   "cell_type": "code",
   "execution_count": null,
   "metadata": {},
   "outputs": [],
   "source": []
  }
 ],
 "metadata": {
  "kernelspec": {
   "display_name": "Python 3",
   "language": "python",
   "name": "python3"
  },
  "language_info": {
   "codemirror_mode": {
    "name": "ipython",
    "version": 3
   },
   "file_extension": ".py",
   "mimetype": "text/x-python",
   "name": "python",
   "nbconvert_exporter": "python",
   "pygments_lexer": "ipython3",
   "version": "3.8.8"
  }
 },
 "nbformat": 4,
 "nbformat_minor": 4
}
