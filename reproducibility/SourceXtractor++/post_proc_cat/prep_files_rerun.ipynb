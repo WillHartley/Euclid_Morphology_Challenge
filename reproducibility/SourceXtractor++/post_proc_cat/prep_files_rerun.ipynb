{
 "cells": [
  {
   "cell_type": "code",
   "execution_count": 1,
   "metadata": {},
   "outputs": [],
   "source": [
    "import numpy as np\n",
    "import astropy.io.fits as pyfits\n",
    "from astropy.table import Table\n",
    "import copy\n",
    "from scipy import stats\n",
    "import matplotlib.pyplot as plt\n",
    "from matplotlib.gridspec import GridSpec\n",
    "import sys, os\n",
    "import subprocess"
   ]
  },
  {
   "cell_type": "markdown",
   "metadata": {},
   "source": [
    "# Single Sersic"
   ]
  },
  {
   "cell_type": "code",
   "execution_count": 2,
   "metadata": {},
   "outputs": [],
   "source": [
    "# change column names\n",
    "translate = {'x': 'x_fit',\n",
    "             'x_err': 'x_fit_err',\n",
    "             'y': 'y_fit',\n",
    "             'y_err': 'y_fit_err',\n",
    "             'flux': 'flux_tot',\n",
    "             'flux_err': 'flux_tot_err',\n",
    "             #'st': 'bt',\n",
    "             #'st_err': 'bt_err',\n",
    "             'col1': 'ID',\n",
    "             'col2': 'X',\n",
    "             'col3': 'Y'\n",
    "            }"
   ]
  },
  {
   "cell_type": "code",
   "execution_count": 3,
   "metadata": {},
   "outputs": [],
   "source": [
    "# columns to drop\n",
    "#drop_cols = ['x','y','x_err','y_err']\n",
    "drop_cols = ['detection_id', 'group_id', 'ra', 'ra_err', 'dec', 'dec_err', 'X_rad', 'X_rad_err', \n",
    "             'X_sersic', 'X_sersic_err', 'angle', 'angle_err', 'X_bt', 'X_bt_err', 'X_disk_radius', \n",
    "             'X_disk_radius_err', 'rel_s', 'rel_s_err', 'RA', 'RA_err', 'Dec', 'Dec_err', 'X_disk_effR', \n",
    "            'X_disk_effR_err', 'X_st', 'X_st_err', 'Separation', 'ellipse_a', 'ellipse_b', 'ellipse_theta',\n",
    "            'ellipse_cxx', 'ellipse_cyy', 'ellipse_cxy', 'area', 'elongation', 'ellipticity', 'X_rel_size',\n",
    "            'X_rel_size_err', 'X_disk_axr', 'X_disk_axr_err', 'X_sersic_axr', 'X_sersic_axr_err', \n",
    "             'X_bulge_axr', 'X_bulge_axr_err']"
   ]
  },
  {
   "cell_type": "code",
   "execution_count": 4,
   "metadata": {},
   "outputs": [
    {
     "name": "stdout",
     "output_type": "stream",
     "text": [
      "0\n"
     ]
    },
    {
     "name": "stderr",
     "output_type": "stream",
     "text": [
      "WARNING: UnitsWarning: 'seconds' did not parse as fits unit: At col 0, Unit 'seconds' not supported by the FITS standard.  If this is meant to be a custom unit, define it with 'u.def_unit'. To have it recognized inside a file reader or other code, enable it with 'u.add_enabled_units'. For details, see https://docs.astropy.org/en/latest/units/combining_and_defining.html [astropy.units.core]\n"
     ]
    },
    {
     "name": "stdout",
     "output_type": "stream",
     "text": [
      "4\n"
     ]
    }
   ],
   "source": [
    "rdir = \"results\"\n",
    "list_dir = \"truth/input_positions_allfields\"\n",
    "out_dir = \"entry/SingleSersic\"\n",
    "if os.path.isdir(out_dir) is False:\n",
    "    os.mkdir(out_dir)\n",
    "\n",
    "for i in [0,4]:\n",
    "    print(i)\n",
    "    rfile = os.path.join(rdir,\"ssersic_rerun_{}_full.fits\".format(i))\n",
    "    list_file = os.path.join(list_dir,\"input_positions_vis_{}_all.list\".format(i))\n",
    "    out_file = os.path.join(out_dir,\"ssersic_rerun_{}.fits\".format(i))\n",
    "\n",
    "    # match\n",
    "    cmd = 'stilts tmatch2 in1={} ifmt1=ascii in2={} out={} matcher=2d values1=\"col2 col3\" values2=\"x y\" \\\n",
    "    params=3 join=all1'.format(list_file, rfile, out_file)\n",
    "    subprocess.call(cmd, shell=True)\n",
    "\n",
    "    t = Table.read(out_file)\n",
    "    \n",
    "    # check that we don't have double matches\n",
    "    if len(t[t['source_id']>-1]) > len(np.unique(t['source_id'])-2):\n",
    "           print(\"Warning: Looks like you have some double matches\")\n",
    "\n",
    "    # delete the columns we don't need\n",
    "    for col in drop_cols:\n",
    "        try:\n",
    "            del t[col]\n",
    "        except:\n",
    "            pass\n",
    "\n",
    "    # rename columns\n",
    "    for item in translate.items():\n",
    "        try:\n",
    "            t[item[0]].name = translate[item[0]]\n",
    "        except:\n",
    "            pass\n",
    "\n",
    "    # add in flag values for unmatched objects\n",
    "    for col in t.colnames:\n",
    "        t[col][np.isnan(t[col])] = -9999\n",
    "        t[col][t[col].mask==True] = -9999            \n",
    "\n",
    "    # save file\n",
    "    t.write(out_file, overwrite=True)\n",
    "    \n"
   ]
  },
  {
   "cell_type": "markdown",
   "metadata": {},
   "source": [
    "# Realistic morph"
   ]
  },
  {
   "cell_type": "code",
   "execution_count": 5,
   "metadata": {},
   "outputs": [
    {
     "name": "stdout",
     "output_type": "stream",
     "text": [
      "0\n",
      "4\n"
     ]
    }
   ],
   "source": [
    "rdir = \"results\"\n",
    "list_dir = \"truth/input_positions_allfields\"\n",
    "out_dir = \"entry/Realistic\"\n",
    "if os.path.isdir(out_dir) is False:\n",
    "    os.mkdir(out_dir)\n",
    "\n",
    "for i in [0,4]:\n",
    "    print(i)\n",
    "    rfile = os.path.join(rdir,\"realm_rerun_{}_full.fits\".format(i))\n",
    "    list_file = os.path.join(list_dir,\"input_positions_vis_{}_all.list\".format(i))\n",
    "    out_file = os.path.join(out_dir,\"ssersic_realistic_rerun_{}.fits\".format(i))\n",
    "\n",
    "    # match\n",
    "    cmd = 'stilts tmatch2 in1={} ifmt1=ascii in2={} out={} matcher=2d values1=\"col2 col3\" values2=\"x y\" \\\n",
    "    params=3 join=all1'.format(list_file, rfile, out_file)\n",
    "    subprocess.call(cmd, shell=True)\n",
    "\n",
    "    t = Table.read(out_file)\n",
    "    \n",
    "    # check that we don't have double matches\n",
    "    if len(t[t['source_id']>-1]) > len(np.unique(t['source_id'])-2):\n",
    "           print(\"Warning: Looks like you have some double matches\")\n",
    "\n",
    "    # delete the columns we don't need\n",
    "    for col in drop_cols:\n",
    "        try:\n",
    "            del t[col]\n",
    "        except:\n",
    "            pass\n",
    "\n",
    "    # rename columns\n",
    "    for item in translate.items():\n",
    "        try:\n",
    "            t[item[0]].name = translate[item[0]]\n",
    "        except:\n",
    "            pass\n",
    "\n",
    "    # add in flag values for unmatched objects\n",
    "    for col in t.colnames:\n",
    "        t[col][np.isnan(t[col])] = -9999\n",
    "        t[col][t[col].mask==True] = -9999            \n",
    "\n",
    "    # save file\n",
    "    t.write(out_file, overwrite=True)"
   ]
  },
  {
   "cell_type": "markdown",
   "metadata": {},
   "source": [
    "# Bulge + Disk"
   ]
  },
  {
   "cell_type": "code",
   "execution_count": 6,
   "metadata": {},
   "outputs": [
    {
     "name": "stdout",
     "output_type": "stream",
     "text": [
      "0\n",
      "4\n"
     ]
    }
   ],
   "source": [
    "rdir = \"results\"\n",
    "list_dir = \"truth/input_positions_allfields\"\n",
    "out_dir = \"entry/BulgeDisk\"\n",
    "if os.path.isdir(out_dir) is False:\n",
    "    os.mkdir(out_dir)\n",
    "\n",
    "for i in [0,4]:\n",
    "    print(i)\n",
    "    rfile = os.path.join(rdir,\"dsersic_rerun_{}_full.fits\".format(i))\n",
    "    list_file = os.path.join(list_dir,\"input_positions_vis_{}_all.list\".format(i))\n",
    "    out_file = os.path.join(out_dir,\"dsersic_rerun_{}.fits\".format(i))\n",
    "\n",
    "    # match\n",
    "    cmd = 'stilts tmatch2 in1={} ifmt1=ascii in2={} out={} matcher=2d values1=\"col2 col3\" values2=\"x y\" \\\n",
    "    params=3 join=all1'.format(list_file, rfile, out_file)\n",
    "    subprocess.call(cmd, shell=True)\n",
    "\n",
    "    t = Table.read(out_file)\n",
    "\n",
    "    # check that we don't have double matches\n",
    "    if len(t[t['source_id']>-1]) > len(np.unique(t['source_id'])-2):\n",
    "           print(\"Warning: Looks like you have some double matches\")\n",
    "\n",
    "    # delete the columns we don't need\n",
    "    for col in drop_cols:\n",
    "        try:\n",
    "            del t[col]\n",
    "        except:\n",
    "            pass\n",
    "\n",
    "    # rename columns\n",
    "    for item in translate.items():\n",
    "        try:\n",
    "            t[item[0]].name = translate[item[0]]\n",
    "        except:\n",
    "            pass\n",
    "\n",
    "    # add in flag values for unmatched objects\n",
    "    for col in t.colnames:\n",
    "        t[col][np.isnan(t[col])] = -9999\n",
    "        t[col][t[col].mask==True] = -9999            \n",
    "\n",
    "    # save file\n",
    "    t.write(out_file, overwrite=True)\n",
    "    "
   ]
  },
  {
   "cell_type": "code",
   "execution_count": 7,
   "metadata": {},
   "outputs": [
    {
     "name": "stdout",
     "output_type": "stream",
     "text": [
      "0\n",
      "4\n"
     ]
    },
    {
     "ename": "FileNotFoundError",
     "evalue": "[Errno 2] No such file or directory: 'entry/SersicDisk/dsersic_var_rerun_4.fits'",
     "output_type": "error",
     "traceback": [
      "\u001b[0;31m---------------------------------------------------------------------------\u001b[0m",
      "\u001b[0;31mFileNotFoundError\u001b[0m                         Traceback (most recent call last)",
      "\u001b[0;32m<ipython-input-7-d3e0211b7d4b>\u001b[0m in \u001b[0;36m<module>\u001b[0;34m\u001b[0m\n\u001b[1;32m     16\u001b[0m     \u001b[0msubprocess\u001b[0m\u001b[0;34m.\u001b[0m\u001b[0mcall\u001b[0m\u001b[0;34m(\u001b[0m\u001b[0mcmd\u001b[0m\u001b[0;34m,\u001b[0m \u001b[0mshell\u001b[0m\u001b[0;34m=\u001b[0m\u001b[0;32mTrue\u001b[0m\u001b[0;34m)\u001b[0m\u001b[0;34m\u001b[0m\u001b[0;34m\u001b[0m\u001b[0m\n\u001b[1;32m     17\u001b[0m \u001b[0;34m\u001b[0m\u001b[0m\n\u001b[0;32m---> 18\u001b[0;31m     \u001b[0mt\u001b[0m \u001b[0;34m=\u001b[0m \u001b[0mTable\u001b[0m\u001b[0;34m.\u001b[0m\u001b[0mread\u001b[0m\u001b[0;34m(\u001b[0m\u001b[0mout_file\u001b[0m\u001b[0;34m)\u001b[0m\u001b[0;34m\u001b[0m\u001b[0;34m\u001b[0m\u001b[0m\n\u001b[0m\u001b[1;32m     19\u001b[0m \u001b[0;34m\u001b[0m\u001b[0m\n\u001b[1;32m     20\u001b[0m     \u001b[0;31m# check that we don't have double matches\u001b[0m\u001b[0;34m\u001b[0m\u001b[0;34m\u001b[0m\u001b[0;34m\u001b[0m\u001b[0m\n",
      "\u001b[0;32m~/anaconda3/lib/python3.8/site-packages/astropy/table/connect.py\u001b[0m in \u001b[0;36m__call__\u001b[0;34m(self, *args, **kwargs)\u001b[0m\n\u001b[1;32m     59\u001b[0m         \u001b[0mdescriptions\u001b[0m \u001b[0;34m=\u001b[0m \u001b[0mkwargs\u001b[0m\u001b[0;34m.\u001b[0m\u001b[0mpop\u001b[0m\u001b[0;34m(\u001b[0m\u001b[0;34m'descriptions'\u001b[0m\u001b[0;34m,\u001b[0m \u001b[0;32mNone\u001b[0m\u001b[0;34m)\u001b[0m\u001b[0;34m\u001b[0m\u001b[0;34m\u001b[0m\u001b[0m\n\u001b[1;32m     60\u001b[0m \u001b[0;34m\u001b[0m\u001b[0m\n\u001b[0;32m---> 61\u001b[0;31m         \u001b[0mout\u001b[0m \u001b[0;34m=\u001b[0m \u001b[0mregistry\u001b[0m\u001b[0;34m.\u001b[0m\u001b[0mread\u001b[0m\u001b[0;34m(\u001b[0m\u001b[0mcls\u001b[0m\u001b[0;34m,\u001b[0m \u001b[0;34m*\u001b[0m\u001b[0margs\u001b[0m\u001b[0;34m,\u001b[0m \u001b[0;34m**\u001b[0m\u001b[0mkwargs\u001b[0m\u001b[0;34m)\u001b[0m\u001b[0;34m\u001b[0m\u001b[0;34m\u001b[0m\u001b[0m\n\u001b[0m\u001b[1;32m     62\u001b[0m \u001b[0;34m\u001b[0m\u001b[0m\n\u001b[1;32m     63\u001b[0m         \u001b[0;31m# For some readers (e.g., ascii.ecsv), the returned `out` class is not\u001b[0m\u001b[0;34m\u001b[0m\u001b[0;34m\u001b[0m\u001b[0;34m\u001b[0m\u001b[0m\n",
      "\u001b[0;32m~/anaconda3/lib/python3.8/site-packages/astropy/io/registry.py\u001b[0m in \u001b[0;36mread\u001b[0;34m(cls, format, cache, *args, **kwargs)\u001b[0m\n\u001b[1;32m    503\u001b[0m                     \u001b[0;32mtry\u001b[0m\u001b[0;34m:\u001b[0m\u001b[0;34m\u001b[0m\u001b[0;34m\u001b[0m\u001b[0m\n\u001b[1;32m    504\u001b[0m                         \u001b[0mctx\u001b[0m \u001b[0;34m=\u001b[0m \u001b[0mget_readable_fileobj\u001b[0m\u001b[0;34m(\u001b[0m\u001b[0margs\u001b[0m\u001b[0;34m[\u001b[0m\u001b[0;36m0\u001b[0m\u001b[0;34m]\u001b[0m\u001b[0;34m,\u001b[0m \u001b[0mencoding\u001b[0m\u001b[0;34m=\u001b[0m\u001b[0;34m'binary'\u001b[0m\u001b[0;34m,\u001b[0m \u001b[0mcache\u001b[0m\u001b[0;34m=\u001b[0m\u001b[0mcache\u001b[0m\u001b[0;34m)\u001b[0m\u001b[0;34m\u001b[0m\u001b[0;34m\u001b[0m\u001b[0m\n\u001b[0;32m--> 505\u001b[0;31m                         \u001b[0mfileobj\u001b[0m \u001b[0;34m=\u001b[0m \u001b[0mctx\u001b[0m\u001b[0;34m.\u001b[0m\u001b[0m__enter__\u001b[0m\u001b[0;34m(\u001b[0m\u001b[0;34m)\u001b[0m\u001b[0;34m\u001b[0m\u001b[0;34m\u001b[0m\u001b[0m\n\u001b[0m\u001b[1;32m    506\u001b[0m                     \u001b[0;32mexcept\u001b[0m \u001b[0mOSError\u001b[0m\u001b[0;34m:\u001b[0m\u001b[0;34m\u001b[0m\u001b[0;34m\u001b[0m\u001b[0m\n\u001b[1;32m    507\u001b[0m                         \u001b[0;32mraise\u001b[0m\u001b[0;34m\u001b[0m\u001b[0;34m\u001b[0m\u001b[0m\n",
      "\u001b[0;32m~/anaconda3/lib/python3.8/contextlib.py\u001b[0m in \u001b[0;36m__enter__\u001b[0;34m(self)\u001b[0m\n\u001b[1;32m    111\u001b[0m         \u001b[0;32mdel\u001b[0m \u001b[0mself\u001b[0m\u001b[0;34m.\u001b[0m\u001b[0margs\u001b[0m\u001b[0;34m,\u001b[0m \u001b[0mself\u001b[0m\u001b[0;34m.\u001b[0m\u001b[0mkwds\u001b[0m\u001b[0;34m,\u001b[0m \u001b[0mself\u001b[0m\u001b[0;34m.\u001b[0m\u001b[0mfunc\u001b[0m\u001b[0;34m\u001b[0m\u001b[0;34m\u001b[0m\u001b[0m\n\u001b[1;32m    112\u001b[0m         \u001b[0;32mtry\u001b[0m\u001b[0;34m:\u001b[0m\u001b[0;34m\u001b[0m\u001b[0;34m\u001b[0m\u001b[0m\n\u001b[0;32m--> 113\u001b[0;31m             \u001b[0;32mreturn\u001b[0m \u001b[0mnext\u001b[0m\u001b[0;34m(\u001b[0m\u001b[0mself\u001b[0m\u001b[0;34m.\u001b[0m\u001b[0mgen\u001b[0m\u001b[0;34m)\u001b[0m\u001b[0;34m\u001b[0m\u001b[0;34m\u001b[0m\u001b[0m\n\u001b[0m\u001b[1;32m    114\u001b[0m         \u001b[0;32mexcept\u001b[0m \u001b[0mStopIteration\u001b[0m\u001b[0;34m:\u001b[0m\u001b[0;34m\u001b[0m\u001b[0;34m\u001b[0m\u001b[0m\n\u001b[1;32m    115\u001b[0m             \u001b[0;32mraise\u001b[0m \u001b[0mRuntimeError\u001b[0m\u001b[0;34m(\u001b[0m\u001b[0;34m\"generator didn't yield\"\u001b[0m\u001b[0;34m)\u001b[0m \u001b[0;32mfrom\u001b[0m \u001b[0;32mNone\u001b[0m\u001b[0;34m\u001b[0m\u001b[0;34m\u001b[0m\u001b[0m\n",
      "\u001b[0;32m~/anaconda3/lib/python3.8/site-packages/astropy/utils/data.py\u001b[0m in \u001b[0;36mget_readable_fileobj\u001b[0;34m(name_or_obj, encoding, cache, show_progress, remote_timeout, sources, http_headers)\u001b[0m\n\u001b[1;32m    250\u001b[0m                 \u001b[0mtimeout\u001b[0m\u001b[0;34m=\u001b[0m\u001b[0mremote_timeout\u001b[0m\u001b[0;34m,\u001b[0m \u001b[0msources\u001b[0m\u001b[0;34m=\u001b[0m\u001b[0msources\u001b[0m\u001b[0;34m,\u001b[0m\u001b[0;34m\u001b[0m\u001b[0;34m\u001b[0m\u001b[0m\n\u001b[1;32m    251\u001b[0m                 http_headers=http_headers)\n\u001b[0;32m--> 252\u001b[0;31m         \u001b[0mfileobj\u001b[0m \u001b[0;34m=\u001b[0m \u001b[0mio\u001b[0m\u001b[0;34m.\u001b[0m\u001b[0mFileIO\u001b[0m\u001b[0;34m(\u001b[0m\u001b[0mname_or_obj\u001b[0m\u001b[0;34m,\u001b[0m \u001b[0;34m'r'\u001b[0m\u001b[0;34m)\u001b[0m\u001b[0;34m\u001b[0m\u001b[0;34m\u001b[0m\u001b[0m\n\u001b[0m\u001b[1;32m    253\u001b[0m         \u001b[0;32mif\u001b[0m \u001b[0mis_url\u001b[0m \u001b[0;32mand\u001b[0m \u001b[0;32mnot\u001b[0m \u001b[0mcache\u001b[0m\u001b[0;34m:\u001b[0m\u001b[0;34m\u001b[0m\u001b[0;34m\u001b[0m\u001b[0m\n\u001b[1;32m    254\u001b[0m             \u001b[0mdelete_fds\u001b[0m\u001b[0;34m.\u001b[0m\u001b[0mappend\u001b[0m\u001b[0;34m(\u001b[0m\u001b[0mfileobj\u001b[0m\u001b[0;34m)\u001b[0m\u001b[0;34m\u001b[0m\u001b[0;34m\u001b[0m\u001b[0m\n",
      "\u001b[0;31mFileNotFoundError\u001b[0m: [Errno 2] No such file or directory: 'entry/SersicDisk/dsersic_var_rerun_4.fits'"
     ]
    }
   ],
   "source": [
    "rdir = \"results\"\n",
    "list_dir = \"truth/input_positions_allfields\"\n",
    "out_dir = \"entry/SersicDisk\"\n",
    "if os.path.isdir(out_dir) is False:\n",
    "    os.mkdir(out_dir)\n",
    "\n",
    "for i in [0,4]:\n",
    "    print(i)\n",
    "    rfile = os.path.join(rdir,\"dsersic2_rerun_{}_full.fits\".format(i))\n",
    "    list_file = os.path.join(list_dir,\"input_positions_vis_{}_all.list\".format(i))\n",
    "    out_file = os.path.join(out_dir,\"dsersic_var_rerun_{}.fits\".format(i))\n",
    "\n",
    "    # match\n",
    "    cmd = 'stilts tmatch2 in1={} ifmt1=ascii in2={} out={} matcher=2d values1=\"col2 col3\" values2=\"x y\" \\\n",
    "    params=3 join=all1'.format(list_file, rfile, out_file)\n",
    "    subprocess.call(cmd, shell=True)\n",
    "\n",
    "    t = Table.read(out_file)\n",
    "\n",
    "    # check that we don't have double matches\n",
    "    if len(t[t['source_id']>-1]) > len(np.unique(t['source_id'])-2):\n",
    "           print(\"Warning: Looks like you have some double matches\")\n",
    "\n",
    "    # delete the columns we don't need\n",
    "    for col in drop_cols:\n",
    "        try:\n",
    "            del t[col]\n",
    "        except:\n",
    "            pass\n",
    "\n",
    "    # rename columns\n",
    "    for item in translate.items():\n",
    "        try:\n",
    "            t[item[0]].name = translate[item[0]]\n",
    "        except:\n",
    "            pass\n",
    "\n",
    "    # add in flag values for unmatched objects\n",
    "    for col in t.colnames:\n",
    "        t[col][np.isnan(t[col])] = -9999\n",
    "        t[col][t[col].mask==True] = -9999            \n",
    "\n",
    "    # save file\n",
    "    t.write(out_file, overwrite=True)"
   ]
  },
  {
   "cell_type": "code",
   "execution_count": null,
   "metadata": {},
   "outputs": [],
   "source": []
  },
  {
   "cell_type": "code",
   "execution_count": null,
   "metadata": {},
   "outputs": [],
   "source": []
  }
 ],
 "metadata": {
  "kernelspec": {
   "display_name": "Python 3",
   "language": "python",
   "name": "python3"
  },
  "language_info": {
   "codemirror_mode": {
    "name": "ipython",
    "version": 3
   },
   "file_extension": ".py",
   "mimetype": "text/x-python",
   "name": "python",
   "nbconvert_exporter": "python",
   "pygments_lexer": "ipython3",
   "version": "3.8.8"
  }
 },
 "nbformat": 4,
 "nbformat_minor": 4
}
